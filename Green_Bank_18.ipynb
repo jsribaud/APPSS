{
 "cells": [
  {
   "cell_type": "markdown",
   "metadata": {},
   "source": [
    "# Green Bank 2018 Instructions "
   ]
  },
  {
   "cell_type": "markdown",
   "metadata": {},
   "source": [
    "###### Chelsey McMichael"
   ]
  },
  {
   "cell_type": "markdown",
   "metadata": {},
   "source": [
    "# Getting Started"
   ]
  },
  {
   "cell_type": "code",
   "execution_count": null,
   "metadata": {
    "collapsed": true
   },
   "outputs": [],
   "source": [
    "#import needed modules - add any additional modules here (or as needed in code)\n",
    "from astropy.io import ascii #read in files\n",
    "import numpy as np #built in math commands \n",
    "import matplotlib.pyplot as plt #plotting \n",
    "%matplotlib inline "
   ]
  },
  {
   "cell_type": "code",
   "execution_count": null,
   "metadata": {},
   "outputs": [],
   "source": [
    "#Read in the data to be used. Filenames should be changed to *your* filenames\n",
    "#The APPSS data is a .csv created from exporting from Google Sheet\n",
    "data_appss=ascii.read(\"slice_35_radec.txt\")  #APPSS data \n",
    "data_alf=ascii.read(\"alf_data.csv\")    #ALFALFA data\n",
    "data_agc=ascii.read(\"AGC_CAT.csv\") # AGC catalog from UAT Page \n",
    "data_appss[:3]"
   ]
  },
  {
   "cell_type": "markdown",
   "metadata": {},
   "source": [
    "# Generating Right Ascension and Declination"
   ]
  },
  {
   "cell_type": "code",
   "execution_count": null,
   "metadata": {},
   "outputs": [],
   "source": [
    "#Here we are creating RA and DEC values for each entry in the APPSS data\n",
    "#You can skip this if you already have the RA/DEC values for the APPSS sources (but check for dependencies)\n",
    "\n",
    "str_src_name=data_appss[1][:] #srcname columm, [1] shows what column we are pulling data from \n",
    "\n",
    "ra_hrdeg = list(str_src_name)   #these six lines convert these values into a list\n",
    "ra_mindeg = list(str_src_name)\n",
    "ra_secdeg = list(str_src_name)\n",
    "dec_degdeg = list(str_src_name)\n",
    "dec_mindeg = list(str_src_name)\n",
    "dec_secdeg = list(str_src_name)\n",
    "\n",
    "#for loop to convert the RA and DEC strings from csv into float RA/DEC (in decimal degrees)\n",
    "for i in range(len(ra_hrdeg)):\n",
    "\n",
    "    #convert RA to decimal degrees\n",
    "    ra_hrdeg[i] = float(str_src_name[i][1:3])*15. #take portion of name that contains hr.\n",
    "    ra_mindeg[i] = float(str_src_name[i][3:5])*15./60. #take portion that contains min.\n",
    "    ra_secdeg[i] = float(str_src_name[i][5:9])*15./3600. #take portion that contains sec.\n",
    "    #convert DEC to decimal degrees \n",
    "    dec_degdeg[i] = float(str_src_name[i][10:12]) #take portion that contains deg.\n",
    "    dec_mindeg[i] = float(str_src_name[i][12:14])/60. #take portion that contains amin.\n",
    "    dec_secdeg[i] = float(str_src_name[i][14:])/3600. #take portion that contains asec.\n",
    "    \n",
    "ra_deg=np.add(np.add(ra_hrdeg,ra_mindeg),ra_secdeg) #add each contribution to get RA in deg.\n",
    "dec_deg=np.add(np.add(dec_degdeg, dec_mindeg), dec_secdeg) #add each contribution to get DEC in deg.\n",
    "\n",
    "for i in range(len(ra_deg)): #keep it in this range where the RA is positive and negative\n",
    "    if ra_deg[i] > 180.:\n",
    "        ra_deg[i] = ra_deg[i]-360. \n",
    "        \n",
    "#now that it is converted into decimal degrees, we can use it to make different graphs \n",
    "\n",
    "#now that we have RA and DEC in decimal degrees, we can add the columns to our table \n",
    "data_appss['RA']=ra_deg\n",
    "data_appss['DEC']=dec_deg\n",
    "#if we want, we can save the table (with the new RA/DEC values), so that we don't have \n",
    "# to run this portion of the notebook again. Just uncomment the ascii.write() line and\n",
    "# run. In future usage of the notebook, just load the new table in cell above and skip \n",
    "# this cell!\n",
    "ascii.write(data_appss, 'filename.txt')"
   ]
  },
  {
   "cell_type": "markdown",
   "metadata": {},
   "source": [
    "# UAT APPSS Slice Detections and Nondetections"
   ]
  },
  {
   "cell_type": "code",
   "execution_count": null,
   "metadata": {
    "collapsed": true
   },
   "outputs": [],
   "source": [
    "vsys_appss=data_appss['Vsys'] #create a new variable for the velocity data from the slice\n",
    "ra_appss = data_appss['RA']\n",
    "dec_appss = data_appss['DEC']\n",
    "\n",
    "#These 'good' values are defined as having systemic velocities greater than 0 km/s (0 km/s is nondetection)\n",
    "vsys_appss_det= vsys_appss[(vsys_appss > 0)]\n",
    "ra_appss_det = ra_appss[(vsys_appss > 0)]\n",
    "dec_appss_det = dec_appss[(vsys_appss > 0)]\n",
    "ra_appss_nd = ra_appss[(vsys_appss == 0)]\n",
    "dec_appss_nd = dec_appss[(vsys_appss == 0)]"
   ]
  },
  {
   "cell_type": "code",
   "execution_count": null,
   "metadata": {},
   "outputs": [],
   "source": [
    "#plots the detections vs. nondetections of your slice as a scatter plot\n",
    "plt.figure(figsize=(15,5)) #this figsize gives the traditional RA vs DEC dimensions of a graph\n",
    "plt.gca().invert_xaxis()  #flip x axis \n",
    "plt.plot(ra_appss_nd,dec_appss_nd,'bo', markersize=8.5, label = 'Nondetection') #list x, y variables, blue cirlces are nondetections\n",
    "plt.plot(ra_appss_det,dec_appss_det,'ro',markersize=8.5, label = 'Detection') #red circles define detection, markersize makes the dots larger\n",
    "plt.title(\"UAT Arecibo Pisces Perseus Supercluster Survey (APPSS)\", fontsize= 15) #title and font size\n",
    "plt.xlabel(\"Right Ascension\", fontsize=13) #label x axis\n",
    "plt.ylabel(\"Declination\", fontsize=13)   #label y axis\n",
    "plt.legend(loc = 1, numpoints = 1) #location of legend \n",
    "\n",
    "fig = plt.gcf() #define the figure so that you can save it \n",
    "\n",
    "#fig.savefig('just_appss.pdf') #uncomment this so that you can have it save "
   ]
  },
  {
   "cell_type": "markdown",
   "metadata": {},
   "source": [
    "# Systemic Velocity of APPSS Detections"
   ]
  },
  {
   "cell_type": "code",
   "execution_count": null,
   "metadata": {},
   "outputs": [],
   "source": [
    "#plots the nonzero velocities of your slice vs the right ascension as a scatter plot for figure 2\n",
    "plt.figure(figsize=(15,5))\n",
    "plt.gca().invert_xaxis()\n",
    "plt.plot(ra_appss_det,vsys_appss_det,'ro', markersize= 8.5) #these are all detections and their calculated systemic velocity\n",
    "plt.title(\"Systemic Velocity of APPSS Detections\", fontsize= 15)\n",
    "plt.xlabel(\"Right Ascension\", fontsize=13)\n",
    "plt.ylabel(\"Systemic Velocity [km/s]\", fontsize=13)\n",
    "\n",
    "fig = plt.gcf()\n",
    "#fig.savefig('RA_vs_Vsys.pdf') #uncomment this so that you can have it save "
   ]
  },
  {
   "cell_type": "markdown",
   "metadata": {},
   "source": [
    "# Comparing Slice Detections to Multiple Catalogs"
   ]
  },
  {
   "cell_type": "code",
   "execution_count": null,
   "metadata": {
    "collapsed": true
   },
   "outputs": [],
   "source": [
    "#read in the alfalfa data\n",
    "RA_alf=data_alf[\"wrapradeg\"] \n",
    "Dec_alf=data_alf[\"usedecdeg\"]\n",
    "gooddec_alf=(Dec_alf >= 33.5) & (Dec_alf <= 36.5)\n",
    "\n",
    "#make sure to pull data that corresponds to your slice range!\n",
    "#you can always change these values to make it correspond to your slice\n",
    "#ALFALFA catalog consists of a wide range of declinations \n",
    "dec_alf_s35 = Dec_alf[gooddec_alf] \n",
    "ra_alf_s35 = RA_alf[gooddec_alf]\n",
    "\n",
    "#read in the AGC catalog RA and DEC\n",
    "RA_agc=data_agc[\"rawrap\"] \n",
    "Dec_agc=data_agc[\"decdeg\"]\n",
    "gooddec_agc = (Dec_agc >= 33.5) & (Dec_agc <= 36.5)\n",
    "\n",
    "#read in the AGC values in your correct declination range\n",
    "dec_agc_s35 = Dec_agc[gooddec_agc] \n",
    "ra_agc_s35 = RA_agc[gooddec_agc]\n",
    "\n",
    "#print(goodHI)\n",
    "\n",
    "#read in the velocity data from ALFALFA\n",
    "v_alf = data_alf['Vhelio']\n",
    "\n",
    "#make sure the velocity used is only for the range of you slice, so you aren't overloaded w/ data you don't need\n",
    "v_alf_s35 = v_alf[gooddec_alf]"
   ]
  },
  {
   "cell_type": "code",
   "execution_count": null,
   "metadata": {},
   "outputs": [],
   "source": [
    "#plots the RA and DEC of ALFALFA and AGC compared to the RA and DEC of your slice\n",
    "plt.figure(figsize=(15,5))\n",
    "plt.gca().invert_xaxis()\n",
    "plt.plot(RA_agc, Dec_agc, 'go',markersize = 8.5, alpha =.05, label = 'AGC Catalog') #alpha changes transparency of each point \n",
    "plt.plot(RA_alf, Dec_alf, 'mo',markersize = 8.5, alpha =.05, label ='ALFALFA Catalog')\n",
    "plt.plot(ra_appss_nd,dec_appss_nd,'bo', markersize=8.5, label = 'Slice 35 Nondetections') #blue circles consist of nondetections\n",
    "plt.plot(ra_appss_det,dec_appss_det,'ro', markersize = 8.5, label = 'Slice 35 Detections') #red circles define detection\n",
    "\n",
    "plt.title(\"UAT APPSS, AGC Catalog, and ALFALFA Catalog\", fontsize= 15)\n",
    "plt.xlabel(\"Right Ascension\", fontsize=13)\n",
    "plt.ylabel(\"Declination\", fontsize=13)\n",
    "plt.axis([60, -40, 19.5, 50])\n",
    "plt.legend(loc = 1, numpoints = 1) #location of legend \n",
    "\n",
    "fig = plt.gcf()\n",
    "\n",
    "#fig.savefig('APPSS_AGC.pdf')  #uncomment this so that you can have it save "
   ]
  },
  {
   "cell_type": "markdown",
   "metadata": {},
   "source": [
    "# Comparing the Systemic Velocity of APPSS and ALFALFA Detections"
   ]
  },
  {
   "cell_type": "code",
   "execution_count": null,
   "metadata": {},
   "outputs": [],
   "source": [
    "#takes the RA of both the ALFALFA and APPSS, against the relevant velocity data of both\n",
    "plt.figure(figsize=(15,5))\n",
    "plt.gca().invert_xaxis()\n",
    "plt.plot(ra_alf_s35,v_alf_s35,'ko', alpha=.15, markersize= 8.5, label = 'ALFALFA' ) #alpha allows you to make the ALFALFA points transparent\n",
    "plt.plot(ra_appss_det,vsys_appss_det,'ro', markersize= 8.5, label = 'APPSS') \n",
    "plt.title(\"Systemic Velocity: APPSS vs. ALFALFA Detections\", fontsize= 15)\n",
    "plt.xlabel(\"Right Ascension\", fontsize=13)\n",
    "plt.ylabel(\"Systemic Velocity [km/s]\", fontsize=13)\n",
    "plt.legend(loc = 1, numpoints = 1) #location of legend \n",
    "\n",
    "\n",
    "\n",
    "\n",
    "fig = plt.gcf()  \n",
    "\n",
    "#fig.savefig('APPSS_ALFALFA_vsys.pdf') #uncomment this so that you can have it save "
   ]
  },
  {
   "cell_type": "markdown",
   "metadata": {},
   "source": [
    "# Counting Detections and Nondetections"
   ]
  },
  {
   "cell_type": "code",
   "execution_count": null,
   "metadata": {},
   "outputs": [],
   "source": [
    "#this is just something you might want, it will tell how many detections/nondetections you have\n",
    "detnon = data_appss['d/n'] #detection or nondetection data pulled\n",
    "d=detnon[np.where(detnon == 'd')] #detections in csv were defined with 'd'\n",
    "n=detnon[np.where(detnon == 'n')] #nondetections in csv were defined with 'n'\n",
    "\n",
    "print('Detections:')\n",
    "print(np.size(d))\n",
    "\n",
    "print('Nondetections:')\n",
    "print(np.size(n))"
   ]
  },
  {
   "cell_type": "markdown",
   "metadata": {},
   "source": [
    "# Finding Certain Values"
   ]
  },
  {
   "cell_type": "code",
   "execution_count": null,
   "metadata": {},
   "outputs": [],
   "source": [
    "#In case you want to make cuts on other attributes, such as S/N:\n",
    "#where is the signal to noise ratio greater than 2?\n",
    "s_n = data_appss['SN']\n",
    "goodsn=s_n[np.where(s_n > 2.)]\n",
    "np.size(goodsn)"
   ]
  },
  {
   "cell_type": "markdown",
   "metadata": {},
   "source": [
    "# Flux vs. Systemic Velocity of Your Slice and the ALFALFA Catalog"
   ]
  },
  {
   "cell_type": "code",
   "execution_count": null,
   "metadata": {
    "collapsed": true,
    "scrolled": true
   },
   "outputs": [],
   "source": [
    "#my slice flux and velocity\n",
    "#notice how I redefined the velocity\n",
    "flux_appss=data_appss['Flux']\n",
    "\n",
    "#alfalfa data\n",
    "flux_alf=data_alf['HIflux']\n",
    "flux_alf_s35 = flux_alf[gooddec_alf]"
   ]
  },
  {
   "cell_type": "code",
   "execution_count": null,
   "metadata": {},
   "outputs": [],
   "source": [
    "#figure of the flux vs. velocity of the appss slice and the alfalfa data\n",
    "plt.figure()\n",
    "plt.figure(figsize=(9,6))\n",
    "plt.plot(vsys_appss, flux_appss,'ro', label = 'APPSS')\n",
    "plt.plot(v_alf_s35, flux_alf_s35,'ko', alpha=.1, label = 'ALFALFA') #only near dec 35, +/- 1.5 degrees\n",
    "plt.title('Flux vs. Systemic Velocity: APPSS and ALFALFA',fontsize=15)\n",
    "plt.xlabel('Velocity [km/s]',fontsize=13)\n",
    "plt.ylabel('Flux [Jy km/s]',fontsize=13)\n",
    "plt.axis([0, 12000, -.05, 1.8])\n",
    "plt.legend(loc = 2, numpoints = 1) #location of legend \n",
    "\n",
    "\n",
    "\n",
    "fig = plt.gcf()\n",
    "\n",
    "#fig.savefig('flux_velocity_both.pdf') #uncomment to save a pdf"
   ]
  },
  {
   "cell_type": "markdown",
   "metadata": {},
   "source": [
    "# Flux vs. W50 "
   ]
  },
  {
   "cell_type": "code",
   "execution_count": null,
   "metadata": {
    "collapsed": true
   },
   "outputs": [],
   "source": [
    "#this compares the w50 of my slice and ALFALFA, however, I did not limit the amount of ALFALFA displayed \n",
    "w50_appss=data_appss['W50']\n",
    "w50_alf=data_alf['W50']"
   ]
  },
  {
   "cell_type": "code",
   "execution_count": null,
   "metadata": {},
   "outputs": [],
   "source": [
    "#figure of the flux vs velocity width of the appss slice and the alfalfa data\n",
    "plt.figure()\n",
    "plt.figure(figsize=(9,6))\n",
    "plt.plot(w50_appss, flux_appss,'ro', label = 'APPSS')\n",
    "plt.plot(w50_alf, flux_alf,'ko', alpha=.1, label = 'ALFALFA') #only near dec 35, +/- 1.5 degrees\n",
    "plt.title('Flux vs. Velocity Width: APPSS and ALFALFA',fontsize=15)\n",
    "plt.xlabel('Velocity Width [km/s]',fontsize=13)\n",
    "plt.ylabel('Flux [Jy km/s]',fontsize=13)\n",
    "plt.axis([0, 300, -.05, 2])\n",
    "plt.legend(loc = 2, numpoints = 1) #location of legend \n",
    "\n",
    "\n",
    "\n",
    "fig = plt.gcf()\n",
    "\n",
    "#fig.savefig('flux_w50_both.pdf') #uncomment to save a pdf"
   ]
  },
  {
   "cell_type": "markdown",
   "metadata": {
    "collapsed": true
   },
   "source": [
    "# HI Mass Calculations (Assuming Systemic Velocity and Hubble Velocity are Equal)"
   ]
  },
  {
   "cell_type": "code",
   "execution_count": null,
   "metadata": {
    "collapsed": true
   },
   "outputs": [],
   "source": [
    "#This isn't the correct way to find the HI mass, but it is useful!\n",
    "#First, you need to find the distance in Mpc to find HI mass\n",
    "H_0=70 #km/s/Mpc\n",
    "D_appss=(vsys_appss_det)/(H_0) #km\n",
    "\n",
    "#make sure the values for flux are for velocities greater than zero, because the good_v_sys is greater than zero\n",
    "flux_appss_det= flux_appss[(vsys_appss > 0)]\n",
    "\n",
    "# Calculate HI mass of slice\n",
    "M_HI_appss = (2.36*10**5)*(D_appss**2)*(flux_appss_det)\n",
    "\n",
    "#import distance from ALFALFA csv\n",
    "D_alf=data_alf['Dist']\n",
    "\n",
    "#Calculate HI mass of ALFALFA catalog\n",
    "M_HI_alf = (2.36*10**5)*(D_alf**2)*(flux_alf)"
   ]
  },
  {
   "cell_type": "markdown",
   "metadata": {},
   "source": [
    "# HI Mass vs. Distance Graph"
   ]
  },
  {
   "cell_type": "code",
   "execution_count": null,
   "metadata": {},
   "outputs": [],
   "source": [
    "#HI mass vs. distance \n",
    "plt.figure()\n",
    "plt.figure(figsize=(9,6))\n",
    "plt.plot(D_alf, np.log10(M_HI_alf), 'ko', alpha=.05, label = 'ALFALFA')\n",
    "plt.plot(D_appss,np.log10(M_HI_appss),'ro', label = 'APPSS')\n",
    "plt.title(\"HI Mass vs. Distance\",fontsize=15)\n",
    "plt.xlabel('Distance (Mpc)',fontsize=13)\n",
    "plt.ylabel('log[HI Mass] (solar masses)',fontsize=13)\n",
    "plt.legend(loc = 4, numpoints = 1) #location of legend \n",
    "\n",
    "\n",
    "fig = plt.gcf()\n",
    "\n",
    "#fig.savefig('HI_mass_dist.pdf')"
   ]
  },
  {
   "cell_type": "markdown",
   "metadata": {},
   "source": [
    "# Systemic Velocity Frequency Histogram of Slice"
   ]
  },
  {
   "cell_type": "code",
   "execution_count": null,
   "metadata": {},
   "outputs": [],
   "source": [
    "#systemic velocity frequency of just my slice\n",
    "plt.figure()\n",
    "plt.figure(figsize=(9,6))\n",
    "plt.hist(vsys_appss, alpha=.75, facecolor = 'orange', edgecolor= 'black')\n",
    "plt.title(\"APPSS Systemic Velocity\")\n",
    "plt.xlabel(\"Velocity [km/s]\")\n",
    "plt.ylabel(\"Frequency\")\n",
    "plt.axis([2000, 12000, 0, 30])\n",
    "\n",
    "fig = plt.gcf()\n",
    "\n",
    "#fig.savefig('velocity_APPSS.pdf') "
   ]
  },
  {
   "cell_type": "markdown",
   "metadata": {},
   "source": [
    "# Systemic Velocity Frequency of ALFALFA Catalog Histogram"
   ]
  },
  {
   "cell_type": "code",
   "execution_count": null,
   "metadata": {},
   "outputs": [],
   "source": [
    "#this histogram is just of the systemic velocity of ALFALFA data in my slice's range\n",
    "plt.figure()\n",
    "plt.figure(figsize=(9,6))\n",
    "plt.hist(v_alf_s35,bins=20, alpha=.75, facecolor = 'blue', edgecolor= 'black') #remember good_v_alf was used to define data from ALFALFA that could fit in my slice\n",
    "plt.title(\"ALFALFA Systemic Velocity \")\n",
    "plt.xlabel(\"Velocity [km/s]\")\n",
    "plt.ylabel(\"Frequency\")\n",
    "plt.axis([-1000, 18000, 0, 140])\n",
    "\n",
    "fig = plt.gcf()\n",
    "\n",
    "#fig.savefig('velocity_ALF.pdf') #uncomment to save figure"
   ]
  },
  {
   "cell_type": "markdown",
   "metadata": {},
   "source": [
    "# Comparing Systemic Velocity Frequency of ALFALFA and Slice Data"
   ]
  },
  {
   "cell_type": "code",
   "execution_count": null,
   "metadata": {},
   "outputs": [],
   "source": [
    "#histogram compares the velocity of my slice data and ALFALFA data in my slice's range\n",
    "plt.figure()\n",
    "plt.figure(figsize=(9,6))\n",
    "plt.hist(v_alf_s35,bins=30,normed=True,alpha=.75,facecolor='blue',edgecolor='black', label = 'ALFALFA') #normalizes for fractional values\n",
    "plt.hist(vsys_appss,bins=20,normed=True,alpha=.75,facecolor='orange',edgecolor='black', label = 'APPSS')\n",
    "\n",
    "plt.title(\"Systemic Velocity: ALFALFA vs. APPSS\", fontsize=15)\n",
    "plt.xlabel(\"Velocity [km/s]\",fontsize=13)\n",
    "plt.ylabel(\"Frequency\",fontsize=13)\n",
    "plt.axis([0, 16000, 0, .00025])\n",
    "plt.legend(loc = 1, numpoints = 1) #location of legend \n",
    "\n",
    "\n",
    "fig = plt.gcf()\n",
    "\n",
    "#fig.savefig('velocity_both_hist.pdf') #uncomment to save "
   ]
  },
  {
   "cell_type": "markdown",
   "metadata": {},
   "source": [
    "# Flux Frequency Histogram of Slice"
   ]
  },
  {
   "cell_type": "code",
   "execution_count": null,
   "metadata": {},
   "outputs": [],
   "source": [
    "#flux frequency of just my slice \n",
    "plt.figure()\n",
    "plt.figure(figsize=(9,6))\n",
    "plt.hist(flux_appss, alpha=.75, facecolor = 'green', edgecolor= 'black')\n",
    "plt.title(\"APPSS Flux\")\n",
    "plt.xlabel(\"Flux [Jy km/s]\")\n",
    "plt.ylabel(\"Frequency\")\n",
    "plt.axis([0.0, 1.8, 0, 18])\n",
    "\n",
    "fig = plt.gcf()\n",
    "\n",
    "#fig.savefig('flux_appss.pdf')"
   ]
  },
  {
   "cell_type": "markdown",
   "metadata": {},
   "source": [
    "# Comparing W50 Frequency of ALFALFA and Slice Data"
   ]
  },
  {
   "cell_type": "code",
   "execution_count": null,
   "metadata": {},
   "outputs": [],
   "source": [
    "#Histogram compares the frequency of certain W50 values of my slice and ALFALFA\n",
    "plt.figure()\n",
    "plt.figure(figsize=(9,6))\n",
    "plt.hist(w50_alf, bins=50, alpha =.75, normed = True, facecolor='blue',edgecolor='black', label = 'ALFALFA')\n",
    "plt.hist(w50_appss, bins=20, normed = True, alpha =.75, facecolor='orange',edgecolor='black', label = 'APPSS')\n",
    "plt.title(\"W50: ALFALFA vs. APPSS\",fontsize= 15)\n",
    "plt.xlabel(\"W50 [km/s]\", fontsize = 13)\n",
    "plt.ylabel(\"Frequency\", fontsize = 13)\n",
    "plt.axis([0, 400, 0, .0045])\n",
    "plt.legend(loc = 1, numpoints = 1) #location of legend \n",
    "\n",
    "\n",
    "fig = plt.gcf()\n",
    "\n",
    "#fig.savefig('w50_both_hist.pdf')"
   ]
  }
 ],
 "metadata": {
  "anaconda-cloud": {},
  "kernelspec": {
   "display_name": "Python 3",
   "language": "python",
   "name": "python3"
  },
  "language_info": {
   "codemirror_mode": {
    "name": "ipython",
    "version": 3
   },
   "file_extension": ".py",
   "mimetype": "text/x-python",
   "name": "python",
   "nbconvert_exporter": "python",
   "pygments_lexer": "ipython3",
   "version": "3.6.2"
  }
 },
 "nbformat": 4,
 "nbformat_minor": 1
}
