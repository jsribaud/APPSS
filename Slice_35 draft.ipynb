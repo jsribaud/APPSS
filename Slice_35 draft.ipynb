{
 "cells": [
  {
   "cell_type": "markdown",
   "metadata": {},
   "source": [
    "         For slice 35, data reductions were performed on ninety-eight different supercluster samples courtesy of the Arecibo Observatory. These consisted of one observation per source, or two to three observations of the same source from different nights of observing in the form of wappfiles. Each source had four boards in which the observer's job was to search for a significant and or unknown detection of a source. As well as fitting a baseline for each spectrum. If there was one wappfile with a detection in one of the boards, a baseline was fitted, and the detection was measured as either a gaussian or double horned profile. Sources with multiple wappfiles had each individual baseline for each wappfile, then were combined as a single source to measure the detection. When it was difficult to tell which board had a detection on a source with multiple wappfiles, the boards with possible detections all had their baselines done, and were all combined in case any significant data was missed on one of the boards. While completing slice 35, there were several difficulties that kept reappearing throughout the process, as well as one question concerning the baselines of a combined source.        \n",
    "         In two of the of the observed samples, there were instances in which wappfiles did not represent the same sample. This error was noticed due to a differing source name or source names. For instance, AGCnr 322553 was meant for the source name S223858.2+340304, and consisted of two wappfiles. The first wappfile instead had a source name of S223733.3+353316, while the second wappfile had the correct source name. This issue was also discovered in AGCnr 115363 which consisted of three separate wappfiles which were assumed to be of the same sample. Out of the three wappfiles, only one did not have the correct source name of S010525.6+342216, and instead had the source name of S234328.6+335909. This issue of mismatched wappfiles was overcome by observing only the wappfiles that had a source name matching the source name of the group in the spreadsheet. The data would have been more complete with every correct wappfile under one source name, perhaps in the future, the correct wappfiles will be given for both and a completed entry for these two samples would be possible. \n",
    "        There are at least seven recorded instances in which there is an enormous spike in emission around 7,000 km/s only found observing board 2. This signal did not have the traits of being a GPS interference. This was proven by viewing the board and eliminating GPS with the /gps function and seeing that the RFI signal was unaffected. In the graph of flux density versus frequency, the frequency always ranges from 1,388 MHz to 1,389 MHz for this relatively large spike in emission. There does not seem to be any relation between the number of wappfiles of a source and whether or not this emission is present, nor was any particular relationship expected. This peculiar RFI could simply be a known RFI that interferes with data.\n",
    "        Oftentimes, significant RFI was only available in board 3. However, no data reduction could be done because of the effects of the GPS signal at 1,381 MHz. Certainly, there is a way to view a wappfile or multiple wappfiles without any GPS signal, yet it is not made clear how to do so in the data reduction instructions. On the spreadsheet, some sources are labeled as having no detection. While that is true in most cases, some had a detection but were disturbed by the GPS signal. Even in board 2 there was sometimes an effect on the continuum because of lingering GPS signal, thus being able to remove it in those situations would have been excellent as well. For sources with multiple wappfiles, there were instances in which a detection was found in board three, yet one of the wappfiles had a GPS signal which would make it impossible to combine the the observations of the same source. Eventually, the GPS signal was taken out using a /gps command, which was beneficial because sources that were previosuly believed to have no detection, had a visible detection when the GPS interference was removed for single and combined spectra. \n",
    "        There was also what appeared to be a detection in board one of some of the samples, this was a spike in the on direction that usually appeared around 600 km/s. \n",
    "        In rare instances, detections were located in the off direction and it was impossible to measure. Therefore, for some of the detections, they are not measured as it was advised that it should not be done for these kinds of detections.\n",
    "        In some of the wappfiles, it was difficult to tell whether or not a detection was gaussian or more of a double horned profile. The source name S025619.9+340251 was one of the wappfiles in which this issue was encountered. When measuring the detection, it was performed using both the gaussian detection and the double horned profile detection. There was little difference, however, it was best to do some further investigation. Using an astronomy conversion site, the source name code was converted into degrees in order to have the right ascension and declination of this wappfile. This sample could now be looked up on an SDSS database since the degrees of right ascension and declination were now available. The database gave a visual of the galaxy where it was discovered to not be an elliptical galaxy and most likely double horned instead of gaussian. \n",
    "        After completing slice 35, there is one lingering question focused on multiple observations of a single source. It is difficult to know whether or not each baseline fit for every wappfile of a set should have the same order number. Obviously, the order of the baseline has an effect on the shape of the spectr and may raise or lower it in certain areas. When these observations are combined into a single spectrum, is it possible that it could be raised or lowered too much, creating signal or getting rid of existing signal? \n",
    "            "
   ]
  },
  {
   "cell_type": "code",
   "execution_count": 2,
   "metadata": {
    "collapsed": false
   },
   "outputs": [
    {
     "name": "stdout",
     "output_type": "stream",
     "text": [
      "d/n\n",
      "---\n",
      "  d\n",
      "  n\n",
      "  n\n",
      "  n\n",
      "  n\n",
      "  n\n",
      "  n\n",
      "  n\n",
      "  d\n",
      "  n\n",
      "...\n",
      "  n\n",
      "  n\n",
      "  n\n",
      "  d\n",
      "  n\n",
      "  n\n",
      "  n\n",
      "  d\n",
      "  n\n",
      "  n\n",
      "  n\n",
      "Length = 392 rows\n"
     ]
    },
    {
     "ename": "NameError",
     "evalue": "name 'bins' is not defined",
     "output_type": "error",
     "traceback": [
      "\u001b[0;31m---------------------------------------------------------------------------\u001b[0m",
      "\u001b[0;31mNameError\u001b[0m                                 Traceback (most recent call last)",
      "\u001b[0;32m<ipython-input-2-29cff433694c>\u001b[0m in \u001b[0;36m<module>\u001b[0;34m()\u001b[0m\n\u001b[1;32m     12\u001b[0m \u001b[0;34m\u001b[0m\u001b[0m\n\u001b[1;32m     13\u001b[0m \u001b[0mplt\u001b[0m\u001b[0;34m.\u001b[0m\u001b[0mfigure\u001b[0m\u001b[0;34m(\u001b[0m\u001b[0;34m)\u001b[0m\u001b[0;34m\u001b[0m\u001b[0m\n\u001b[0;32m---> 14\u001b[0;31m \u001b[0mplt\u001b[0m\u001b[0;34m.\u001b[0m\u001b[0mhist\u001b[0m\u001b[0;34m(\u001b[0m\u001b[0mdw50\u001b[0m\u001b[0;34m,\u001b[0m\u001b[0mbins\u001b[0m\u001b[0;34m)\u001b[0m\u001b[0;34m\u001b[0m\u001b[0m\n\u001b[0m\u001b[1;32m     15\u001b[0m \u001b[0mplt\u001b[0m\u001b[0;34m.\u001b[0m\u001b[0mtitle\u001b[0m\u001b[0;34m(\u001b[0m\u001b[0;34m\"Detection Histogram\"\u001b[0m\u001b[0;34m)\u001b[0m\u001b[0;34m\u001b[0m\u001b[0m\n\u001b[1;32m     16\u001b[0m \u001b[0mplt\u001b[0m\u001b[0;34m.\u001b[0m\u001b[0mxlabel\u001b[0m\u001b[0;34m(\u001b[0m\u001b[0;34m\"w50 [km/s]\"\u001b[0m\u001b[0;34m)\u001b[0m\u001b[0;34m\u001b[0m\u001b[0m\n",
      "\u001b[0;31mNameError\u001b[0m: name 'bins' is not defined"
     ]
    },
    {
     "data": {
      "text/plain": [
       "<matplotlib.figure.Figure at 0x10b53dd90>"
      ]
     },
     "metadata": {},
     "output_type": "display_data"
    }
   ],
   "source": [
    "from astropy.io import ascii\n",
    "data = ascii.read(\"slice_35.csv\")\n",
    "detnon = data['d/n']\n",
    "w50 = data['W50']\n",
    "dw50 = w50[detnon == 'd']\n",
    "print(detnon)\n",
    "\n",
    "import matplotlib.pyplot as plt\n",
    "import numpy as np\n",
    "%matplotlib inline\n",
    "\n",
    "\n",
    "plt.figure()\n",
    "plt.hist(dw50,bins)\n",
    "plt.title(\"Detection Histogram\")\n",
    "plt.xlabel(\"w50 [km/s]\")\n",
    "plt.ylabel(\"Frequency\")\n",
    "\n",
    "\n",
    "plt.show()\n"
   ]
  },
  {
   "cell_type": "code",
   "execution_count": 13,
   "metadata": {
    "collapsed": false
   },
   "outputs": [
    {
     "data": {
      "image/png": "[encoded data removed]",
      "text/plain": [
       "<matplotlib.figure.Figure at 0x112914110>"
      ]
     },
     "metadata": {},
     "output_type": "display_data"
    },
    {
     "data": {
      "image/png": "[encoded data removed]",
      "text/plain": [
       "<matplotlib.figure.Figure at 0x10ecdcf90>"
      ]
     },
     "metadata": {},
     "output_type": "display_data"
    }
   ],
   "source": [
    "from astropy.io import ascii\n",
    "data = ascii.read(\"slice_35.csv\")\n",
    "vel=data['Vsys']\n",
    "fx=data['Flux']\n",
    "\n",
    "import matplotlib.pyplot as plt\n",
    "import numpy as np\n",
    "%matplotlib inline\n",
    "\n",
    "gaussian_numbers = vel\n",
    "plt.figure(1)\n",
    "plt.hist(gaussian_numbers)\n",
    "plt.title(\"Velocity Histogram\")\n",
    "plt.xlabel(\"Velocity [km/s]\")\n",
    "plt.ylabel(\"Frequency\")\n",
    "\n",
    "gaussian_numbers = fx\n",
    "plt.figure(2)\n",
    "plt.hist(gaussian_numbers, bins = 20)\n",
    "plt.title(\"Flux Histogram\")\n",
    "plt.xlabel(\"Flux [Jy km/s]\")\n",
    "plt.ylabel(\"Frequency\")\n",
    "\n",
    "plt.show()\n"
   ]
  },
  {
   "cell_type": "code",
   "execution_count": 15,
   "metadata": {
    "collapsed": false
   },
   "outputs": [
    {
     "ename": "NameError",
     "evalue": "name 'ax' is not defined",
     "output_type": "error",
     "traceback": [
      "\u001b[0;31m---------------------------------------------------------------------------\u001b[0m",
      "\u001b[0;31mNameError\u001b[0m                                 Traceback (most recent call last)",
      "\u001b[0;32m<ipython-input-15-932e8deee12d>\u001b[0m in \u001b[0;36m<module>\u001b[0;34m()\u001b[0m\n\u001b[1;32m     19\u001b[0m \u001b[0mplt\u001b[0m\u001b[0;34m.\u001b[0m\u001b[0mylabel\u001b[0m\u001b[0;34m(\u001b[0m\u001b[0;34m\"Frequency\"\u001b[0m\u001b[0;34m)\u001b[0m\u001b[0;34m\u001b[0m\u001b[0m\n\u001b[1;32m     20\u001b[0m \u001b[0mplt\u001b[0m\u001b[0;34m.\u001b[0m\u001b[0maxis\u001b[0m\u001b[0;34m(\u001b[0m\u001b[0;34m[\u001b[0m\u001b[0;36m0\u001b[0m\u001b[0;34m,\u001b[0m\u001b[0;36m21\u001b[0m\u001b[0;34m,\u001b[0m\u001b[0;36m0\u001b[0m\u001b[0;34m,\u001b[0m\u001b[0;36m21\u001b[0m\u001b[0;34m]\u001b[0m\u001b[0;34m)\u001b[0m\u001b[0;34m\u001b[0m\u001b[0m\n\u001b[0;32m---> 21\u001b[0;31m \u001b[0max\u001b[0m\u001b[0;34m.\u001b[0m\u001b[0mset_xticks\u001b[0m\u001b[0;34m(\u001b[0m\u001b[0mnp\u001b[0m\u001b[0;34m.\u001b[0m\u001b[0marange\u001b[0m\u001b[0;34m(\u001b[0m\u001b[0;36m0\u001b[0m\u001b[0;34m,\u001b[0m\u001b[0;36m100\u001b[0m\u001b[0;34m,\u001b[0m\u001b[0;36m20\u001b[0m\u001b[0;34m)\u001b[0m\u001b[0;34m)\u001b[0m\u001b[0;34m\u001b[0m\u001b[0m\n\u001b[0m\u001b[1;32m     22\u001b[0m \u001b[0;34m\u001b[0m\u001b[0m\n\u001b[1;32m     23\u001b[0m \u001b[0mplt\u001b[0m\u001b[0;34m.\u001b[0m\u001b[0mshow\u001b[0m\u001b[0;34m(\u001b[0m\u001b[0;34m)\u001b[0m\u001b[0;34m\u001b[0m\u001b[0m\n",
      "\u001b[0;31mNameError\u001b[0m: name 'ax' is not defined"
     ]
    },
    {
     "data": {
      "image/png": "[encoded data removed]",
      "text/plain": [
       "<matplotlib.figure.Figure at 0x10ef60a10>"
      ]
     },
     "metadata": {},
     "output_type": "display_data"
    },
    {
     "data": {
      "image/png": "[encoded data removed]",
      "text/plain": [
       "<matplotlib.figure.Figure at 0x1123d9350>"
      ]
     },
     "metadata": {},
     "output_type": "display_data"
    }
   ],
   "source": [
    "from astropy.io import ascii\n",
    "data = ascii.read(\"slice_35.csv\")\n",
    "SN=data['SN']\n",
    "\n",
    "import matplotlib.pyplot as plt\n",
    "import numpy as np\n",
    "%matplotlib inline \n",
    "\n",
    "plt.figure(1)\n",
    "plt.hist(SN,alpha=.5)\n",
    "plt.title(\"SN Histogram\")\n",
    "plt.xlabel(\"[SN]\")\n",
    "plt.ylabel(\"Frequency\")\n",
    "\n",
    "plt.figure(2)\n",
    "plt.plot(SN,'bs')\n",
    "plt.title(\"SN Histogram\")\n",
    "plt.xlabel(\"SN Chelsey [km/s]\")\n",
    "plt.ylabel(\"Frequency\")\n",
    "plt.axis([0,21,0,21])\n",
    "\n",
    "plt.show()\n"
   ]
  },
  {
   "cell_type": "code",
   "execution_count": null,
   "metadata": {
    "collapsed": true
   },
   "outputs": [],
   "source": []
  }
 ],
 "metadata": {
  "anaconda-cloud": {},
  "kernelspec": {
   "display_name": "Python [Root]",
   "language": "python",
   "name": "Python [Root]"
  },
  "language_info": {
   "codemirror_mode": {
    "name": "ipython",
    "version": 2
   },
   "file_extension": ".py",
   "mimetype": "text/x-python",
   "name": "python",
   "nbconvert_exporter": "python",
   "pygments_lexer": "ipython2",
   "version": "2.7.12"
  }
 },
 "nbformat": 4,
 "nbformat_minor": 0
}
